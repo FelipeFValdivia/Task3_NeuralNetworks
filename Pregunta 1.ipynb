{
 "cells": [
  {
   "cell_type": "markdown",
   "metadata": {},
   "source": [
    "<h5>a)</h5>\n",
    "Se cargan los datos"
   ]
  },
  {
   "cell_type": "code",
   "execution_count": 1,
   "metadata": {
    "collapsed": false
   },
   "outputs": [
    {
     "name": "stderr",
     "output_type": "stream",
     "text": [
      "Using TensorFlow backend.\n"
     ]
    }
   ],
   "source": [
    "import numpy as np\n",
    "from keras.datasets import imdb\n",
    "np.random.seed(3)\n",
    "(X_train, y_train), (X_test, y_test) = imdb.load_data(seed=15)\n"
   ]
  },
  {
   "cell_type": "markdown",
   "metadata": {},
   "source": [
    "<h5>b)</h5>\n",
    "Se genera un boxplot donde se observa que se cumple la ley Zipf, ya que existen varios otulayers hacía arriba, los cuales corresponden al pequeño conjunto de palabras que son altamente utilizadas."
   ]
  },
  {
   "cell_type": "code",
   "execution_count": 2,
   "metadata": {
    "collapsed": false
   },
   "outputs": [
    {
     "name": "stdout",
     "output_type": "stream",
     "text": [
      "Review length: \n"
     ]
    },
    {
     "data": {
      "image/png": "[encoded data removed]",
      "text/plain": [
       "<matplotlib.figure.Figure at 0x27bfdcb7f28>"
      ]
     },
     "metadata": {},
     "output_type": "display_data"
    }
   ],
   "source": [
    "X = np.concatenate((X_train, X_test), axis=0)\n",
    "y = np.concatenate((y_train, y_test), axis=0)\n",
    "from matplotlib import pyplot\n",
    "print(\"Review length: \")\n",
    "result = list(map(len, X))\n",
    "pyplot.boxplot(result)\n",
    "pyplot.show()\n"
   ]
  },
  {
   "cell_type": "markdown",
   "metadata": {},
   "source": [
    "Se genera un split de los datos creando un dataset solo con clase 0 y un dataset solo con clase 1, al obserbar el boxplot, los resultados son similares a los obtenidos anteriormente."
   ]
  },
  {
   "cell_type": "code",
   "execution_count": 11,
   "metadata": {
    "collapsed": false,
    "scrolled": false
   },
   "outputs": [
    {
     "name": "stdout",
     "output_type": "stream",
     "text": [
      "Review length with class 0: \n"
     ]
    },
    {
     "data": {
      "image/png": "[encoded data removed]",
      "text/plain": [
       "<matplotlib.figure.Figure at 0x20628064cc0>"
      ]
     },
     "metadata": {},
     "output_type": "display_data"
    },
    {
     "name": "stdout",
     "output_type": "stream",
     "text": [
      "Review length with class 1: \n"
     ]
    },
    {
     "data": {
      "image/png": "[encoded data removed]",
      "text/plain": [
       "<matplotlib.figure.Figure at 0x2062812b828>"
      ]
     },
     "metadata": {},
     "output_type": "display_data"
    }
   ],
   "source": [
    "X = np.concatenate((X_train, X_test), axis=0)\n",
    "y = np.concatenate((y_train, y_test), axis=0)\n",
    "X_0, y_0, X_1, y_1 = [], [], [], []\n",
    "for idx, val in enumerate(y):\n",
    "    if int(val) == 0:\n",
    "        X_0.append(X[idx])\n",
    "        y_0.append(val)\n",
    "    else:\n",
    "        X_1.append(X[idx])\n",
    "        y_1.append(val)\n",
    "\n",
    "        \n",
    "from matplotlib import pyplot\n",
    "print(\"Review length with class 0: \")\n",
    "result = list(map(len, X_0))\n",
    "pyplot.boxplot(result)\n",
    "pyplot.show()\n",
    "\n",
    "print(\"Review length with class 1: \")\n",
    "result = list(map(len, X_1))\n",
    "pyplot.boxplot(result)\n",
    "pyplot.show()"
   ]
  },
  {
   "cell_type": "markdown",
   "metadata": {},
   "source": [
    "<h5>c)</h5>\n",
    "Se cargan los datos extrayendo solo las 3000 palabras más relevantes. Además los comentarios con un largo menor se rellenan con ceros para que todos los vectores de datos sean de la misma forma."
   ]
  },
  {
   "cell_type": "code",
   "execution_count": 3,
   "metadata": {
    "collapsed": true
   },
   "outputs": [],
   "source": [
    "(X_train, y_train), (X_test, y_test) = imdb.load_data(num_words=3000, seed=15)\n",
    "\n",
    "from keras.preprocessing import sequence\n",
    "\n",
    "X_train = sequence.pad_sequences(X_train, maxlen=500)\n",
    "X_test = sequence.pad_sequences(X_test, maxlen=500)\n"
   ]
  },
  {
   "cell_type": "markdown",
   "metadata": {},
   "source": [
    "<h5>d)</h5>"
   ]
  },
  {
   "cell_type": "code",
   "execution_count": 4,
   "metadata": {
    "collapsed": false
   },
   "outputs": [
    {
     "name": "stderr",
     "output_type": "stream",
     "text": [
      "D:\\Users\\Felipe\\Anaconda3\\envs\\tensorflow\\lib\\site-packages\\keras\\models.py:837: UserWarning: The `nb_epoch` argument in `fit` has been renamed `epochs`.\n",
      "  warnings.warn('The `nb_epoch` argument in `fit` '\n"
     ]
    },
    {
     "name": "stdout",
     "output_type": "stream",
     "text": [
      "Train on 25000 samples, validate on 25000 samples\n",
      "Epoch 1/3\n",
      "25000/25000 [==============================] - 345s - loss: 0.5317 - acc: 0.7236 - val_loss: 0.3992 - val_acc: 0.8224\n",
      "Epoch 2/3\n",
      "25000/25000 [==============================] - 339s - loss: 0.3619 - acc: 0.8490 - val_loss: 0.3641 - val_acc: 0.8438\n",
      "Epoch 3/3\n",
      "25000/25000 [==============================] - 338s - loss: 0.3141 - acc: 0.8716 - val_loss: 0.3263 - val_acc: 0.8622\n"
     ]
    }
   ],
   "source": [
    "from keras.models import Sequential\n",
    "from keras.layers import Dense\n",
    "from keras.layers import LSTM\n",
    "from keras.layers.embeddings import Embedding\n",
    "embedding_vector_length = 32\n",
    "top_words = 3000\n",
    "model = Sequential()\n",
    "model.add(Embedding(top_words, embedding_vector_length, input_length=500))\n",
    "model.add(LSTM(100))\n",
    "model.add(Dense(1, activation='sigmoid'))\n",
    "model.compile(loss='binary_crossentropy', optimizer='adam', metrics=['accuracy'])\n",
    "model.fit(X_train, y_train, validation_data=(X_test, y_test), nb_epoch=3, batch_size=64)\n",
    "scores = model.evaluate(X_test, y_test, verbose=0)"
   ]
  },
  {
   "cell_type": "markdown",
   "metadata": {},
   "source": [
    "<h5>e)</h5>\n",
    "Al cambiar la dimención de entrada del embedding a 2000 el algoritmo diverge"
   ]
  },
  {
   "cell_type": "code",
   "execution_count": 2,
   "metadata": {
    "collapsed": false
   },
   "outputs": [
    {
     "name": "stderr",
     "output_type": "stream",
     "text": [
      "Using TensorFlow backend.\n",
      "D:\\Users\\Felipe\\Anaconda3\\envs\\tensorflow\\lib\\site-packages\\keras\\models.py:837: UserWarning: The `nb_epoch` argument in `fit` has been renamed `epochs`.\n",
      "  warnings.warn('The `nb_epoch` argument in `fit` '\n"
     ]
    },
    {
     "name": "stdout",
     "output_type": "stream",
     "text": [
      "Train on 25000 samples, validate on 25000 samples\n",
      "Epoch 1/3\n",
      "25000/25000 [==============================] - 377s - loss: 3.8935 - acc: 0.2885 - val_loss: 7.9712 - val_acc: 0.0000e+00\n",
      "Epoch 2/3\n",
      "25000/25000 [==============================] - 376s - loss: 7.9712 - acc: 0.0000e+00 - val_loss: 7.9712 - val_acc: 0.0000e+00\n",
      "Epoch 3/3\n",
      "25000/25000 [==============================] - 364s - loss: 7.9712 - acc: 0.0000e+00 - val_loss: 7.9712 - val_acc: 0.0000e+00\n"
     ]
    }
   ],
   "source": [
    "\n",
    "import numpy as np\n",
    "from keras.datasets import imdb\n",
    "np.random.seed(3)\n",
    "from keras.preprocessing import sequence\n",
    "(X_train, y_train), (X_test, y_test) = imdb.load_data(num_words=3000, seed=15)\n",
    "\n",
    "X_train = sequence.pad_sequences(X_train, maxlen=500)\n",
    "X_test = sequence.pad_sequences(X_test, maxlen=500)\n",
    "\n",
    "\n",
    "from keras.models import Sequential\n",
    "from keras.layers import Dense\n",
    "from keras.layers import LSTM\n",
    "from keras.layers.embeddings import Embedding\n",
    "embedding_vector_length = 32\n",
    "top_words = 2000\n",
    "model = Sequential()\n",
    "model.add(Embedding(top_words, embedding_vector_length, input_length=500))\n",
    "model.add(LSTM(100))\n",
    "model.add(Dense(1, activation='sigmoid'))\n",
    "model.compile(loss='binary_crossentropy', optimizer='adam', metrics=['accuracy'])\n",
    "model.fit(X_train, y_train, validation_data=(X_test, y_test), nb_epoch=3, batch_size=64)\n",
    "scores = model.evaluate(X_test, y_test, verbose=0)"
   ]
  },
  {
   "cell_type": "markdown",
   "metadata": {},
   "source": [
    "Al aumentar la dimensión inicial del embedding a 4000, se obtiene un resultado con un valor de accuracy pequeñamente más alto"
   ]
  },
  {
   "cell_type": "code",
   "execution_count": 1,
   "metadata": {
    "collapsed": false
   },
   "outputs": [
    {
     "name": "stderr",
     "output_type": "stream",
     "text": [
      "Using TensorFlow backend.\n",
      "D:\\Users\\Felipe\\Anaconda3\\envs\\tensorflow\\lib\\site-packages\\keras\\models.py:837: UserWarning: The `nb_epoch` argument in `fit` has been renamed `epochs`.\n",
      "  warnings.warn('The `nb_epoch` argument in `fit` '\n"
     ]
    },
    {
     "name": "stdout",
     "output_type": "stream",
     "text": [
      "Train on 25000 samples, validate on 25000 samples\n",
      "Epoch 1/3\n",
      "25000/25000 [==============================] - 370s - loss: 0.5063 - acc: 0.7402 - val_loss: 0.5019 - val_acc: 0.7570\n",
      "Epoch 2/3\n",
      "25000/25000 [==============================] - 369s - loss: 0.3346 - acc: 0.8596 - val_loss: 0.3851 - val_acc: 0.8443\n",
      "Epoch 3/3\n",
      "25000/25000 [==============================] - 366s - loss: 0.2787 - acc: 0.8887 - val_loss: 0.3022 - val_acc: 0.8764\n"
     ]
    }
   ],
   "source": [
    "\n",
    "import numpy as np\n",
    "from keras.datasets import imdb\n",
    "np.random.seed(3)\n",
    "from keras.preprocessing import sequence\n",
    "(X_train, y_train), (X_test, y_test) = imdb.load_data(num_words=3000, seed=15)\n",
    "\n",
    "X_train = sequence.pad_sequences(X_train, maxlen=500)\n",
    "X_test = sequence.pad_sequences(X_test, maxlen=500)\n",
    "\n",
    "\n",
    "from keras.models import Sequential\n",
    "from keras.layers import Dense\n",
    "from keras.layers import LSTM\n",
    "from keras.layers.embeddings import Embedding\n",
    "embedding_vector_length = 32\n",
    "top_words = 4000\n",
    "model = Sequential()\n",
    "model.add(Embedding(top_words, embedding_vector_length, input_length=500))\n",
    "model.add(LSTM(100))\n",
    "model.add(Dense(1, activation='sigmoid'))\n",
    "model.compile(loss='binary_crossentropy', optimizer='adam', metrics=['accuracy'])\n",
    "model.fit(X_train, y_train, validation_data=(X_test, y_test), nb_epoch=3, batch_size=64)\n",
    "scores = model.evaluate(X_test, y_test, verbose=0)"
   ]
  },
  {
   "cell_type": "markdown",
   "metadata": {},
   "source": [
    "Al utilizar una dimensión inicial de 6000 el resultado es similar al caso anterior (con 4000) tanto en accuracy como en tiempos de entrenamiento."
   ]
  },
  {
   "cell_type": "code",
   "execution_count": 1,
   "metadata": {
    "collapsed": false
   },
   "outputs": [
    {
     "name": "stderr",
     "output_type": "stream",
     "text": [
      "Using TensorFlow backend.\n",
      "D:\\Users\\Felipe\\Anaconda3\\envs\\tensorflow\\lib\\site-packages\\keras\\models.py:837: UserWarning: The `nb_epoch` argument in `fit` has been renamed `epochs`.\n",
      "  warnings.warn('The `nb_epoch` argument in `fit` '\n"
     ]
    },
    {
     "name": "stdout",
     "output_type": "stream",
     "text": [
      "Train on 25000 samples, validate on 25000 samples\n",
      "Epoch 1/3\n",
      "25000/25000 [==============================] - 353s - loss: 0.4939 - acc: 0.7466 - val_loss: 0.3110 - val_acc: 0.8666\n",
      "Epoch 2/3\n",
      "25000/25000 [==============================] - 349s - loss: 0.3184 - acc: 0.8692 - val_loss: 0.3125 - val_acc: 0.8682\n",
      "Epoch 3/3\n",
      "25000/25000 [==============================] - 373s - loss: 0.2741 - acc: 0.8904 - val_loss: 0.3023 - val_acc: 0.8754\n"
     ]
    }
   ],
   "source": [
    "\n",
    "import numpy as np\n",
    "from keras.datasets import imdb\n",
    "np.random.seed(3)\n",
    "from keras.preprocessing import sequence\n",
    "(X_train, y_train), (X_test, y_test) = imdb.load_data(num_words=3000, seed=15)\n",
    "\n",
    "X_train = sequence.pad_sequences(X_train, maxlen=500)\n",
    "X_test = sequence.pad_sequences(X_test, maxlen=500)\n",
    "\n",
    "\n",
    "from keras.models import Sequential\n",
    "from keras.layers import Dense\n",
    "from keras.layers import LSTM\n",
    "from keras.layers.embeddings import Embedding\n",
    "embedding_vector_length = 32\n",
    "top_words = 6000\n",
    "model = Sequential()\n",
    "model.add(Embedding(top_words, embedding_vector_length, input_length=500))\n",
    "model.add(LSTM(100))\n",
    "model.add(Dense(1, activation='sigmoid'))\n",
    "model.compile(loss='binary_crossentropy', optimizer='adam', metrics=['accuracy'])\n",
    "model.fit(X_train, y_train, validation_data=(X_test, y_test), nb_epoch=3, batch_size=64)\n",
    "scores = model.evaluate(X_test, y_test, verbose=0)"
   ]
  },
  {
   "cell_type": "markdown",
   "metadata": {},
   "source": [
    "Al disminuir el valor a 2500 los tiempos aumentan un poco, y la accuracy se mantiene casi igual."
   ]
  },
  {
   "cell_type": "code",
   "execution_count": 1,
   "metadata": {
    "collapsed": false
   },
   "outputs": [
    {
     "name": "stderr",
     "output_type": "stream",
     "text": [
      "Using TensorFlow backend.\n",
      "D:\\Users\\Felipe\\Anaconda3\\envs\\tensorflow\\lib\\site-packages\\keras\\models.py:837: UserWarning: The `nb_epoch` argument in `fit` has been renamed `epochs`.\n",
      "  warnings.warn('The `nb_epoch` argument in `fit` '\n"
     ]
    },
    {
     "name": "stdout",
     "output_type": "stream",
     "text": [
      "Train on 25000 samples, validate on 25000 samples\n",
      "Epoch 1/3\n",
      "25000/25000 [==============================] - 375s - loss: 0.5402 - acc: 0.7122 - val_loss: 0.4026 - val_acc: 0.8170\n",
      "Epoch 2/3\n",
      "25000/25000 [==============================] - 371s - loss: 0.3543 - acc: 0.8520 - val_loss: 0.3274 - val_acc: 0.8604\n",
      "Epoch 3/3\n",
      "25000/25000 [==============================] - 371s - loss: 0.3327 - acc: 0.8584 - val_loss: 0.3255 - val_acc: 0.8683\n"
     ]
    }
   ],
   "source": [
    "\n",
    "import numpy as np\n",
    "from keras.datasets import imdb\n",
    "np.random.seed(3)\n",
    "from keras.preprocessing import sequence\n",
    "(X_train, y_train), (X_test, y_test) = imdb.load_data(num_words=3000, seed=15)\n",
    "\n",
    "X_train = sequence.pad_sequences(X_train, maxlen=500)\n",
    "X_test = sequence.pad_sequences(X_test, maxlen=500)\n",
    "\n",
    "\n",
    "from keras.models import Sequential\n",
    "from keras.layers import Dense\n",
    "from keras.layers import LSTM\n",
    "from keras.layers.embeddings import Embedding\n",
    "embedding_vector_length = 32\n",
    "top_words = 2500\n",
    "model = Sequential()\n",
    "model.add(Embedding(top_words, embedding_vector_length, input_length=500))\n",
    "model.add(LSTM(100))\n",
    "model.add(Dense(1, activation='sigmoid'))\n",
    "model.compile(loss='binary_crossentropy', optimizer='adam', metrics=['accuracy'])\n",
    "model.fit(X_train, y_train, validation_data=(X_test, y_test), nb_epoch=3, batch_size=64)\n",
    "scores = model.evaluate(X_test, y_test, verbose=0)"
   ]
  },
  {
   "cell_type": "markdown",
   "metadata": {},
   "source": [
    "<h5>f</h5>\n",
    "\n",
    "Se utilizan las 5000 palabras más frecuentes. el accuracy aumenta un poco, por lo cual disminuye el error de clasificación."
   ]
  },
  {
   "cell_type": "code",
   "execution_count": 1,
   "metadata": {
    "collapsed": false
   },
   "outputs": [
    {
     "name": "stderr",
     "output_type": "stream",
     "text": [
      "Using TensorFlow backend.\n",
      "D:\\Users\\Felipe\\Anaconda3\\envs\\tensorflow\\lib\\site-packages\\keras\\models.py:837: UserWarning: The `nb_epoch` argument in `fit` has been renamed `epochs`.\n",
      "  warnings.warn('The `nb_epoch` argument in `fit` '\n"
     ]
    },
    {
     "name": "stdout",
     "output_type": "stream",
     "text": [
      "Train on 25000 samples, validate on 25000 samples\n",
      "Epoch 1/3\n",
      "25000/25000 [==============================] - 341s - loss: 0.4746 - acc: 0.7564 - val_loss: 0.3481 - val_acc: 0.8528\n",
      "Epoch 2/3\n",
      "25000/25000 [==============================] - 332s - loss: 0.2923 - acc: 0.8826 - val_loss: 0.3184 - val_acc: 0.8692\n",
      "Epoch 3/3\n",
      "25000/25000 [==============================] - 332s - loss: 0.2647 - acc: 0.8950 - val_loss: 0.3366 - val_acc: 0.8734\n"
     ]
    }
   ],
   "source": [
    "\n",
    "import numpy as np\n",
    "from keras.datasets import imdb\n",
    "np.random.seed(3)\n",
    "from keras.preprocessing import sequence\n",
    "(X_train, y_train), (X_test, y_test) = imdb.load_data(num_words=5000, seed=15)\n",
    "\n",
    "X_train = sequence.pad_sequences(X_train, maxlen=500)\n",
    "X_test = sequence.pad_sequences(X_test, maxlen=500)\n",
    "\n",
    "\n",
    "from keras.models import Sequential\n",
    "from keras.layers import Dense\n",
    "from keras.layers import LSTM\n",
    "from keras.layers.embeddings import Embedding\n",
    "embedding_vector_length = 32\n",
    "top_words = 5000\n",
    "model = Sequential()\n",
    "model.add(Embedding(top_words, embedding_vector_length, input_length=500))\n",
    "model.add(LSTM(100))\n",
    "model.add(Dense(1, activation='sigmoid'))\n",
    "model.compile(loss='binary_crossentropy', optimizer='adam', metrics=['accuracy'])\n",
    "model.fit(X_train, y_train, validation_data=(X_test, y_test), nb_epoch=3, batch_size=64)\n",
    "scores = model.evaluate(X_test, y_test, verbose=0)"
   ]
  },
  {
   "cell_type": "markdown",
   "metadata": {},
   "source": [
    "Al utilizar solo las 2000 palabras más significativas, los resultados son muy similares a los obtenidos en las 2 situaciones anteriores."
   ]
  },
  {
   "cell_type": "code",
   "execution_count": 1,
   "metadata": {
    "collapsed": false
   },
   "outputs": [
    {
     "name": "stderr",
     "output_type": "stream",
     "text": [
      "Using TensorFlow backend.\n",
      "D:\\Users\\Felipe\\Anaconda3\\envs\\tensorflow\\lib\\site-packages\\keras\\models.py:837: UserWarning: The `nb_epoch` argument in `fit` has been renamed `epochs`.\n",
      "  warnings.warn('The `nb_epoch` argument in `fit` '\n"
     ]
    },
    {
     "name": "stdout",
     "output_type": "stream",
     "text": [
      "Train on 25000 samples, validate on 25000 samples\n",
      "Epoch 1/3\n",
      "25000/25000 [==============================] - 362s - loss: 0.5903 - acc: 0.6902 - val_loss: 0.5314 - val_acc: 0.7388\n",
      "Epoch 2/3\n",
      "25000/25000 [==============================] - 369s - loss: 0.3829 - acc: 0.8340 - val_loss: 0.3436 - val_acc: 0.8546\n",
      "Epoch 3/3\n",
      "25000/25000 [==============================] - 369s - loss: 0.3172 - acc: 0.8711 - val_loss: 0.3383 - val_acc: 0.8608\n"
     ]
    }
   ],
   "source": [
    "\n",
    "import numpy as np\n",
    "from keras.datasets import imdb\n",
    "np.random.seed(3)\n",
    "from keras.preprocessing import sequence\n",
    "(X_train, y_train), (X_test, y_test) = imdb.load_data(num_words=2000, seed=15)\n",
    "\n",
    "X_train = sequence.pad_sequences(X_train, maxlen=500)\n",
    "X_test = sequence.pad_sequences(X_test, maxlen=500)\n",
    "\n",
    "\n",
    "from keras.models import Sequential\n",
    "from keras.layers import Dense\n",
    "from keras.layers import LSTM\n",
    "from keras.layers.embeddings import Embedding\n",
    "embedding_vector_length = 32\n",
    "top_words = 2000\n",
    "model = Sequential()\n",
    "model.add(Embedding(top_words, embedding_vector_length, input_length=500))\n",
    "model.add(LSTM(100))\n",
    "model.add(Dense(1, activation='sigmoid'))\n",
    "model.compile(loss='binary_crossentropy', optimizer='adam', metrics=['accuracy'])\n",
    "model.fit(X_train, y_train, validation_data=(X_test, y_test), nb_epoch=3, batch_size=64)\n",
    "scores = model.evaluate(X_test, y_test, verbose=0)"
   ]
  },
  {
   "cell_type": "markdown",
   "metadata": {},
   "source": [
    "<h5>g)</h5>\n",
    "Se utiliza dropout a continuación del embeding y de la capa LSTM. Los resultados obtenidos tienen el mayor accuracy de validación de todos los casos estudiados. Esto en teoría, debería ser gracias a que el utilizar dropout disminuye la posibilidad de overfitting, ajustandose mejor a los datos de prueba. "
   ]
  },
  {
   "cell_type": "code",
   "execution_count": 1,
   "metadata": {
    "collapsed": false
   },
   "outputs": [
    {
     "name": "stderr",
     "output_type": "stream",
     "text": [
      "Using TensorFlow backend.\n"
     ]
    },
    {
     "name": "stdout",
     "output_type": "stream",
     "text": [
      "_________________________________________________________________\n",
      "Layer (type)                 Output Shape              Param #   \n",
      "=================================================================\n",
      "embedding_1 (Embedding)      (None, 500, 32)           96000     \n",
      "_________________________________________________________________\n",
      "dropout_1 (Dropout)          (None, 500, 32)           0         \n",
      "_________________________________________________________________\n",
      "lstm_1 (LSTM)                (None, 100)               53200     \n",
      "_________________________________________________________________\n",
      "dropout_2 (Dropout)          (None, 100)               0         \n",
      "_________________________________________________________________\n",
      "dense_1 (Dense)              (None, 1)                 101       \n",
      "=================================================================\n",
      "Total params: 149,301\n",
      "Trainable params: 149,301\n",
      "Non-trainable params: 0\n",
      "_________________________________________________________________\n",
      "None\n"
     ]
    },
    {
     "name": "stderr",
     "output_type": "stream",
     "text": [
      "D:\\Users\\Felipe\\Anaconda3\\envs\\tensorflow\\lib\\site-packages\\keras\\models.py:837: UserWarning: The `nb_epoch` argument in `fit` has been renamed `epochs`.\n",
      "  warnings.warn('The `nb_epoch` argument in `fit` '\n"
     ]
    },
    {
     "name": "stdout",
     "output_type": "stream",
     "text": [
      "Epoch 1/3\n",
      "25000/25000 [==============================] - 294s - loss: 0.4938 - acc: 0.7517   \n",
      "Epoch 2/3\n",
      "25000/25000 [==============================] - 289s - loss: 0.3433 - acc: 0.8574   \n",
      "Epoch 3/3\n",
      "25000/25000 [==============================] - 289s - loss: 0.2748 - acc: 0.8902   \n"
     ]
    }
   ],
   "source": [
    "\n",
    "import numpy as np\n",
    "from keras.datasets import imdb\n",
    "np.random.seed(3)\n",
    "from keras.preprocessing import sequence\n",
    "(X_train, y_train), (X_test, y_test) = imdb.load_data(num_words=3000, seed=15)\n",
    "\n",
    "X_train = sequence.pad_sequences(X_train, maxlen=500)\n",
    "X_test = sequence.pad_sequences(X_test, maxlen=500)\n",
    "\n",
    "\n",
    "from keras.layers import Dropout\n",
    "from keras.models import Sequential\n",
    "from keras.layers import Dense\n",
    "from keras.layers import LSTM\n",
    "from keras.layers.embeddings import Embedding\n",
    "top_words = 3000\n",
    "embedding_vector_length = 32\n",
    "model = Sequential()\n",
    "model.add(Embedding(top_words, embedding_vector_length, input_length=500))\n",
    "model.add(Dropout(0.2))\n",
    "model.add(LSTM(100))\n",
    "model.add(Dropout(0.2))\n",
    "model.add(Dense(1, activation='sigmoid'))\n",
    "model.compile(loss='binary_crossentropy', optimizer='adam', metrics=['accuracy'])\n",
    "print(model.summary())\n",
    "model.fit(X_train, y_train, nb_epoch=3, batch_size=64)\n",
    "scores = model.evaluate(X_test, y_test, verbose=0)\n"
   ]
  },
  {
   "cell_type": "markdown",
   "metadata": {},
   "source": [
    "<h5>h)</h5>\n",
    "Se utilizan distintas técnicas para mejorar los resultados, entre ellas está la cross validation, el cambio de ciertos parámetros, etc. El mejor resultado obtenido para las pruebas realizadas, se logra al aumentar el largo del verctor del embedding a 128. En el caso contrario, el peor resultado fue al usar relu como función de activación en la última capa.\n"
   ]
  },
  {
   "cell_type": "code",
   "execution_count": 1,
   "metadata": {
    "collapsed": false
   },
   "outputs": [
    {
     "name": "stderr",
     "output_type": "stream",
     "text": [
      "Using TensorFlow backend.\n"
     ]
    },
    {
     "name": "stdout",
     "output_type": "stream",
     "text": [
      "_________________________________________________________________\n",
      "Layer (type)                 Output Shape              Param #   \n",
      "=================================================================\n",
      "embedding_1 (Embedding)      (None, 500, 32)           96000     \n",
      "_________________________________________________________________\n",
      "dropout_1 (Dropout)          (None, 500, 32)           0         \n",
      "_________________________________________________________________\n",
      "lstm_1 (LSTM)                (None, 100)               53200     \n",
      "_________________________________________________________________\n",
      "dropout_2 (Dropout)          (None, 100)               0         \n",
      "_________________________________________________________________\n",
      "dense_1 (Dense)              (None, 1)                 101       \n",
      "=================================================================\n",
      "Total params: 149,301\n",
      "Trainable params: 149,301\n",
      "Non-trainable params: 0\n",
      "_________________________________________________________________\n",
      "None\n"
     ]
    },
    {
     "name": "stderr",
     "output_type": "stream",
     "text": [
      "D:\\Users\\Felipe\\Anaconda3\\envs\\tensorflow\\lib\\site-packages\\keras\\models.py:837: UserWarning: The `nb_epoch` argument in `fit` has been renamed `epochs`.\n",
      "  warnings.warn('The `nb_epoch` argument in `fit` '\n"
     ]
    },
    {
     "name": "stdout",
     "output_type": "stream",
     "text": [
      "Epoch 1/3\n",
      "25000/25000 [==============================] - 301s - loss: 1.1096 - acc: 0.5984   \n",
      "Epoch 2/3\n",
      "25000/25000 [==============================] - 307s - loss: 0.8880 - acc: 0.6617   \n",
      "Epoch 3/3\n",
      "25000/25000 [==============================] - 310s - loss: 0.5093 - acc: 0.7789   \n"
     ]
    }
   ],
   "source": [
    "\n",
    "import numpy as np\n",
    "from keras.datasets import imdb\n",
    "np.random.seed(3)\n",
    "from keras.preprocessing import sequence\n",
    "(X_train, y_train), (X_test, y_test) = imdb.load_data(num_words=3000, seed=15)\n",
    "\n",
    "X_train = sequence.pad_sequences(X_train, maxlen=500)\n",
    "X_test = sequence.pad_sequences(X_test, maxlen=500)\n",
    "\n",
    "\n",
    "from keras.layers import Dropout\n",
    "from keras.models import Sequential\n",
    "from keras.layers import Dense\n",
    "from keras.layers import LSTM\n",
    "from keras.layers.embeddings import Embedding\n",
    "top_words = 3000\n",
    "embedding_vector_length = 32\n",
    "model = Sequential()\n",
    "model.add(Embedding(top_words, embedding_vector_length, input_length=500))\n",
    "model.add(Dropout(0.2))\n",
    "model.add(LSTM(100))\n",
    "model.add(Dropout(0.2))\n",
    "model.add(Dense(1, activation='relu'))\n",
    "model.compile(loss='binary_crossentropy', optimizer='adam', metrics=['accuracy'])\n",
    "print(model.summary())\n",
    "model.fit(X_train, y_train, nb_epoch=3, batch_size=64)\n",
    "scores = model.evaluate(X_test, y_test, verbose=0)"
   ]
  },
  {
   "cell_type": "code",
   "execution_count": 1,
   "metadata": {
    "collapsed": false
   },
   "outputs": [
    {
     "name": "stderr",
     "output_type": "stream",
     "text": [
      "Using TensorFlow backend.\n"
     ]
    },
    {
     "name": "stdout",
     "output_type": "stream",
     "text": [
      "_________________________________________________________________\n",
      "Layer (type)                 Output Shape              Param #   \n",
      "=================================================================\n",
      "embedding_1 (Embedding)      (None, 500, 50)           150000    \n",
      "_________________________________________________________________\n",
      "dropout_1 (Dropout)          (None, 500, 50)           0         \n",
      "_________________________________________________________________\n",
      "lstm_1 (LSTM)                (None, 100)               60400     \n",
      "_________________________________________________________________\n",
      "dropout_2 (Dropout)          (None, 100)               0         \n",
      "_________________________________________________________________\n",
      "dense_1 (Dense)              (None, 1)                 101       \n",
      "=================================================================\n",
      "Total params: 210,501\n",
      "Trainable params: 210,501\n",
      "Non-trainable params: 0\n",
      "_________________________________________________________________\n",
      "None\n"
     ]
    },
    {
     "name": "stderr",
     "output_type": "stream",
     "text": [
      "D:\\Users\\Felipe\\Anaconda3\\envs\\tensorflow\\lib\\site-packages\\keras\\models.py:837: UserWarning: The `nb_epoch` argument in `fit` has been renamed `epochs`.\n",
      "  warnings.warn('The `nb_epoch` argument in `fit` '\n"
     ]
    },
    {
     "name": "stdout",
     "output_type": "stream",
     "text": [
      "Epoch 1/3\n",
      "25000/25000 [==============================] - 309s - loss: 0.4467 - acc: 0.7880   \n",
      "Epoch 2/3\n",
      "25000/25000 [==============================] - 304s - loss: 0.3151 - acc: 0.8716   \n",
      "Epoch 3/3\n",
      "25000/25000 [==============================] - 299s - loss: 0.2929 - acc: 0.8814   \n"
     ]
    }
   ],
   "source": [
    "\n",
    "import numpy as np\n",
    "from keras.datasets import imdb\n",
    "np.random.seed(3)\n",
    "from keras.preprocessing import sequence\n",
    "(X_train, y_train), (X_test, y_test) = imdb.load_data(num_words=3000, seed=15)\n",
    "\n",
    "X_train = sequence.pad_sequences(X_train, maxlen=500)\n",
    "X_test = sequence.pad_sequences(X_test, maxlen=500)\n",
    "\n",
    "\n",
    "from keras.layers import Dropout\n",
    "from keras.models import Sequential\n",
    "from keras.layers import Dense\n",
    "from keras.layers import LSTM\n",
    "from keras.layers.embeddings import Embedding\n",
    "top_words = 3000\n",
    "embedding_vector_length = 50\n",
    "model = Sequential()\n",
    "model.add(Embedding(top_words, embedding_vector_length, input_length=500))\n",
    "model.add(Dropout(0.2))\n",
    "model.add(LSTM(100))\n",
    "model.add(Dropout(0.2))\n",
    "model.add(Dense(1, activation='sigmoid'))\n",
    "model.compile(loss='binary_crossentropy', optimizer='adam', metrics=['accuracy'])\n",
    "print(model.summary())\n",
    "model.fit(X_train, y_train, nb_epoch=3, batch_size=64)\n",
    "scores = model.evaluate(X_test, y_test, verbose=0)"
   ]
  },
  {
   "cell_type": "code",
   "execution_count": 1,
   "metadata": {
    "collapsed": false
   },
   "outputs": [
    {
     "name": "stderr",
     "output_type": "stream",
     "text": [
      "Using TensorFlow backend.\n"
     ]
    },
    {
     "name": "stdout",
     "output_type": "stream",
     "text": [
      "_________________________________________________________________\n",
      "Layer (type)                 Output Shape              Param #   \n",
      "=================================================================\n",
      "embedding_1 (Embedding)      (None, 500, 128)          384000    \n",
      "_________________________________________________________________\n",
      "dropout_1 (Dropout)          (None, 500, 128)          0         \n",
      "_________________________________________________________________\n",
      "lstm_1 (LSTM)                (None, 100)               91600     \n",
      "_________________________________________________________________\n",
      "dropout_2 (Dropout)          (None, 100)               0         \n",
      "_________________________________________________________________\n",
      "dense_1 (Dense)              (None, 1)                 101       \n",
      "=================================================================\n",
      "Total params: 475,701\n",
      "Trainable params: 475,701\n",
      "Non-trainable params: 0\n",
      "_________________________________________________________________\n",
      "None\n"
     ]
    },
    {
     "name": "stderr",
     "output_type": "stream",
     "text": [
      "D:\\Users\\Felipe\\Anaconda3\\envs\\tensorflow\\lib\\site-packages\\keras\\models.py:837: UserWarning: The `nb_epoch` argument in `fit` has been renamed `epochs`.\n",
      "  warnings.warn('The `nb_epoch` argument in `fit` '\n"
     ]
    },
    {
     "name": "stdout",
     "output_type": "stream",
     "text": [
      "Epoch 1/3\n",
      "25000/25000 [==============================] - 310s - loss: 0.4640 - acc: 0.7770   \n",
      "Epoch 2/3\n",
      "25000/25000 [==============================] - 295s - loss: 0.3260 - acc: 0.8663   \n",
      "Epoch 3/3\n",
      "25000/25000 [==============================] - 301s - loss: 0.3047 - acc: 0.8757   \n",
      "25000/25000 [==============================] - 142s   \n"
     ]
    }
   ],
   "source": [
    "\n",
    "import numpy as np\n",
    "from keras.datasets import imdb\n",
    "np.random.seed(3)\n",
    "from keras.preprocessing import sequence\n",
    "(X_train, y_train), (X_test, y_test) = imdb.load_data(num_words=3000, seed=15)\n",
    "\n",
    "X_train = sequence.pad_sequences(X_train, maxlen=500)\n",
    "X_test = sequence.pad_sequences(X_test, maxlen=500)\n",
    "\n",
    "\n",
    "from keras.layers import Dropout\n",
    "from keras.models import Sequential\n",
    "from keras.layers import Dense\n",
    "from keras.layers import LSTM\n",
    "from keras.layers.embeddings import Embedding\n",
    "top_words = 3000\n",
    "embedding_vector_length = 128\n",
    "model = Sequential()\n",
    "model.add(Embedding(top_words, embedding_vector_length, input_length=500))\n",
    "model.add(Dropout(0.2))\n",
    "model.add(LSTM(100))\n",
    "model.add(Dropout(0.2))\n",
    "model.add(Dense(1, activation='sigmoid'))\n",
    "model.compile(loss='binary_crossentropy', optimizer='adam', metrics=['accuracy'])\n",
    "print(model.summary())\n",
    "model.fit(X_train, y_train, nb_epoch=3, batch_size=64)\n",
    "scores = model.evaluate(X_test, y_test, verbose=1)"
   ]
  },
  {
   "cell_type": "code",
   "execution_count": 1,
   "metadata": {
    "collapsed": false
   },
   "outputs": [
    {
     "name": "stderr",
     "output_type": "stream",
     "text": [
      "Using TensorFlow backend.\n"
     ]
    },
    {
     "name": "stdout",
     "output_type": "stream",
     "text": [
      "_________________________________________________________________\n",
      "Layer (type)                 Output Shape              Param #   \n",
      "=================================================================\n",
      "embedding_1 (Embedding)      (None, 500, 128)          576000    \n",
      "_________________________________________________________________\n",
      "dropout_1 (Dropout)          (None, 500, 128)          0         \n",
      "_________________________________________________________________\n",
      "lstm_1 (LSTM)                (None, 100)               91600     \n",
      "_________________________________________________________________\n",
      "dropout_2 (Dropout)          (None, 100)               0         \n",
      "_________________________________________________________________\n",
      "dense_1 (Dense)              (None, 1)                 101       \n",
      "=================================================================\n",
      "Total params: 667,701\n",
      "Trainable params: 667,701\n",
      "Non-trainable params: 0\n",
      "_________________________________________________________________\n",
      "None\n"
     ]
    },
    {
     "name": "stderr",
     "output_type": "stream",
     "text": [
      "D:\\Users\\Felipe\\Anaconda3\\envs\\tensorflow\\lib\\site-packages\\keras\\models.py:837: UserWarning: The `nb_epoch` argument in `fit` has been renamed `epochs`.\n",
      "  warnings.warn('The `nb_epoch` argument in `fit` '\n"
     ]
    },
    {
     "name": "stdout",
     "output_type": "stream",
     "text": [
      "Epoch 1/3\n",
      "25000/25000 [==============================] - 315s - loss: 0.4908 - acc: 0.7632   \n",
      "Epoch 2/3\n",
      "25000/25000 [==============================] - 308s - loss: 0.3087 - acc: 0.8733   \n",
      "Epoch 3/3\n",
      "25000/25000 [==============================] - 312s - loss: 0.2778 - acc: 0.8895   \n",
      "25000/25000 [==============================] - 135s   \n"
     ]
    }
   ],
   "source": [
    "\n",
    "import numpy as np\n",
    "from keras.datasets import imdb\n",
    "np.random.seed(3)\n",
    "from keras.preprocessing import sequence\n",
    "(X_train, y_train), (X_test, y_test) = imdb.load_data(num_words=4000, seed=15)\n",
    "\n",
    "X_train = sequence.pad_sequences(X_train, maxlen=500)\n",
    "X_test = sequence.pad_sequences(X_test, maxlen=500)\n",
    "\n",
    "\n",
    "from keras.layers import Dropout\n",
    "from keras.models import Sequential\n",
    "from keras.layers import Dense\n",
    "from keras.layers import LSTM\n",
    "from keras.layers.embeddings import Embedding\n",
    "top_words = 4500\n",
    "embedding_vector_length = 128\n",
    "model = Sequential()\n",
    "model.add(Embedding(top_words, embedding_vector_length, input_length=500))\n",
    "model.add(Dropout(0.2))\n",
    "model.add(LSTM(100))\n",
    "model.add(Dropout(0.2))\n",
    "model.add(Dense(1, activation='sigmoid'))\n",
    "model.compile(loss='binary_crossentropy', optimizer='adam', metrics=['accuracy'])\n",
    "print(model.summary())\n",
    "model.fit(X_train, y_train, nb_epoch=3, batch_size=64)\n",
    "scores = model.evaluate(X_test, y_test, verbose=1)"
   ]
  },
  {
   "cell_type": "code",
   "execution_count": 1,
   "metadata": {
    "collapsed": false,
    "scrolled": false
   },
   "outputs": [
    {
     "name": "stderr",
     "output_type": "stream",
     "text": [
      "Using TensorFlow backend.\n",
      "D:\\Users\\Felipe\\Anaconda3\\envs\\tensorflow\\lib\\site-packages\\sklearn\\cross_validation.py:44: DeprecationWarning: This module was deprecated in version 0.18 in favor of the model_selection module into which all the refactored classes and functions are moved. Also note that the interface of the new CV iterators are different from that of this module. This module will be removed in 0.20.\n",
      "  \"This module will be removed in 0.20.\", DeprecationWarning)\n"
     ]
    },
    {
     "name": "stdout",
     "output_type": "stream",
     "text": [
      "_________________________________________________________________\n",
      "Layer (type)                 Output Shape              Param #   \n",
      "=================================================================\n",
      "embedding_1 (Embedding)      (None, 500, 128)          576000    \n",
      "_________________________________________________________________\n",
      "dropout_1 (Dropout)          (None, 500, 128)          0         \n",
      "_________________________________________________________________\n",
      "lstm_1 (LSTM)                (None, 100)               91600     \n",
      "_________________________________________________________________\n",
      "dropout_2 (Dropout)          (None, 100)               0         \n",
      "_________________________________________________________________\n",
      "dense_1 (Dense)              (None, 1)                 101       \n",
      "=================================================================\n",
      "Total params: 667,701\n",
      "Trainable params: 667,701\n",
      "Non-trainable params: 0\n",
      "_________________________________________________________________\n",
      "None\n"
     ]
    },
    {
     "name": "stderr",
     "output_type": "stream",
     "text": [
      "D:\\Users\\Felipe\\Anaconda3\\envs\\tensorflow\\lib\\site-packages\\keras\\models.py:837: UserWarning: The `nb_epoch` argument in `fit` has been renamed `epochs`.\n",
      "  warnings.warn('The `nb_epoch` argument in `fit` '\n"
     ]
    },
    {
     "name": "stdout",
     "output_type": "stream",
     "text": [
      "Epoch 1/3\n",
      "25000/25000 [==============================] - 312s - loss: 0.4203 - acc: 0.8037   \n",
      "Epoch 2/3\n",
      "25000/25000 [==============================] - 312s - loss: 0.2951 - acc: 0.8821   \n",
      "Epoch 3/3\n",
      "25000/25000 [==============================] - 324s - loss: 0.3476 - acc: 0.8512   \n",
      "25000/25000 [==============================] - 138s   \n",
      "Acc: 87.508%\n",
      "acc: 87.51%\n",
      "_________________________________________________________________\n",
      "Layer (type)                 Output Shape              Param #   \n",
      "=================================================================\n",
      "embedding_2 (Embedding)      (None, 500, 128)          576000    \n",
      "_________________________________________________________________\n",
      "dropout_3 (Dropout)          (None, 500, 128)          0         \n",
      "_________________________________________________________________\n",
      "lstm_2 (LSTM)                (None, 100)               91600     \n",
      "_________________________________________________________________\n",
      "dropout_4 (Dropout)          (None, 100)               0         \n",
      "_________________________________________________________________\n",
      "dense_2 (Dense)              (None, 1)                 101       \n",
      "=================================================================\n",
      "Total params: 667,701\n",
      "Trainable params: 667,701\n",
      "Non-trainable params: 0\n",
      "_________________________________________________________________\n",
      "None\n",
      "Epoch 1/3\n",
      "25000/25000 [==============================] - 306s - loss: 0.4641 - acc: 0.7748   \n",
      "Epoch 2/3\n",
      "25000/25000 [==============================] - 312s - loss: 0.2896 - acc: 0.8827   \n",
      "Epoch 3/3\n",
      "25000/25000 [==============================] - 312s - loss: 0.2716 - acc: 0.8916   \n",
      "25000/25000 [==============================] - 137s   \n",
      "Acc: 87.46%\n",
      "acc: 87.46%\n",
      "_________________________________________________________________\n",
      "Layer (type)                 Output Shape              Param #   \n",
      "=================================================================\n",
      "embedding_3 (Embedding)      (None, 500, 128)          576000    \n",
      "_________________________________________________________________\n",
      "dropout_5 (Dropout)          (None, 500, 128)          0         \n",
      "_________________________________________________________________\n",
      "lstm_3 (LSTM)                (None, 100)               91600     \n",
      "_________________________________________________________________\n",
      "dropout_6 (Dropout)          (None, 100)               0         \n",
      "_________________________________________________________________\n",
      "dense_3 (Dense)              (None, 1)                 101       \n",
      "=================================================================\n",
      "Total params: 667,701\n",
      "Trainable params: 667,701\n",
      "Non-trainable params: 0\n",
      "_________________________________________________________________\n",
      "None\n",
      "Epoch 1/3\n",
      "25000/25000 [==============================] - 311s - loss: 0.4263 - acc: 0.8021   \n",
      "Epoch 2/3\n",
      "25000/25000 [==============================] - 313s - loss: 0.3064 - acc: 0.8764   \n",
      "Epoch 3/3\n",
      "25000/25000 [==============================] - 309s - loss: 0.2436 - acc: 0.9044   \n",
      "25000/25000 [==============================] - 137s   \n",
      "Acc: 87.12%\n",
      "acc: 87.12%\n",
      "_________________________________________________________________\n",
      "Layer (type)                 Output Shape              Param #   \n",
      "=================================================================\n",
      "embedding_4 (Embedding)      (None, 500, 128)          576000    \n",
      "_________________________________________________________________\n",
      "dropout_7 (Dropout)          (None, 500, 128)          0         \n",
      "_________________________________________________________________\n",
      "lstm_4 (LSTM)                (None, 100)               91600     \n",
      "_________________________________________________________________\n",
      "dropout_8 (Dropout)          (None, 100)               0         \n",
      "_________________________________________________________________\n",
      "dense_4 (Dense)              (None, 1)                 101       \n",
      "=================================================================\n",
      "Total params: 667,701\n",
      "Trainable params: 667,701\n",
      "Non-trainable params: 0\n",
      "_________________________________________________________________\n",
      "None\n",
      "Epoch 1/3\n",
      "25000/25000 [==============================] - 319s - loss: 0.4169 - acc: 0.8079   \n",
      "Epoch 2/3\n",
      "25000/25000 [==============================] - 322s - loss: 0.3033 - acc: 0.8766   \n",
      "Epoch 3/3\n",
      "25000/25000 [==============================] - 317s - loss: 0.2501 - acc: 0.9027   \n",
      "25000/25000 [==============================] - 143s   \n",
      "Acc: 85.16%\n",
      "acc: 85.16%\n",
      "_________________________________________________________________\n",
      "Layer (type)                 Output Shape              Param #   \n",
      "=================================================================\n",
      "embedding_5 (Embedding)      (None, 500, 128)          576000    \n",
      "_________________________________________________________________\n",
      "dropout_9 (Dropout)          (None, 500, 128)          0         \n",
      "_________________________________________________________________\n",
      "lstm_5 (LSTM)                (None, 100)               91600     \n",
      "_________________________________________________________________\n",
      "dropout_10 (Dropout)         (None, 100)               0         \n",
      "_________________________________________________________________\n",
      "dense_5 (Dense)              (None, 1)                 101       \n",
      "=================================================================\n",
      "Total params: 667,701\n",
      "Trainable params: 667,701\n",
      "Non-trainable params: 0\n",
      "_________________________________________________________________\n",
      "None\n",
      "Epoch 1/3\n",
      "25000/25000 [==============================] - 315s - loss: 0.4402 - acc: 0.7942   \n",
      "Epoch 2/3\n",
      "25000/25000 [==============================] - 313s - loss: 0.3041 - acc: 0.8753   \n",
      "Epoch 3/3\n",
      "25000/25000 [==============================] - 305s - loss: 0.2405 - acc: 0.9058   \n",
      "25000/25000 [==============================] - 136s   \n",
      "Acc: 87.716%\n",
      "acc: 87.72%\n",
      "86.99% (+/- 0.94%)\n"
     ]
    }
   ],
   "source": [
    "\n",
    "import numpy as np\n",
    "from keras.datasets import imdb\n",
    "np.random.seed(3)\n",
    "from keras.preprocessing import sequence\n",
    "(X_train, y_train), (X_test, y_test) = imdb.load_data(num_words=4000, seed=15)\n",
    "\n",
    "X_train = sequence.pad_sequences(X_train, maxlen=500)\n",
    "X_test = sequence.pad_sequences(X_test, maxlen=500)\n",
    "\n",
    "from keras.layers import Dropout\n",
    "from keras.models import Sequential\n",
    "from keras.layers import Dense\n",
    "from keras.layers import LSTM\n",
    "from keras.layers.embeddings import Embedding\n",
    "top_words = 4500\n",
    "embedding_vector_length = 128\n",
    "\n",
    "from sklearn.cross_validation import KFold\n",
    "kfold = KFold(7250, n_folds=5 , shuffle=True)\n",
    "cvscores = []\n",
    "\n",
    "for i, (train, test) in enumerate(kfold):\n",
    "    model = Sequential()\n",
    "    model.add(Embedding(top_words, embedding_vector_length, input_length=500))\n",
    "    model.add(Dropout(0.2))\n",
    "    model.add(LSTM(100))\n",
    "    model.add(Dropout(0.2))\n",
    "    model.add(Dense(1, activation='sigmoid'))\n",
    "    model.compile(loss='binary_crossentropy', optimizer='adam', metrics=['accuracy'])\n",
    "    print(model.summary())\n",
    "    model.fit(X_train, y_train, nb_epoch=3, batch_size=64)\n",
    "    scores = model.evaluate(X_test, y_test, verbose=1)\n",
    "    print(\"Acc: \" + str(scores[1] * 100) + \"%\")\n",
    "    print(\"%s: %.2f%%\" % (model.metrics_names[1], scores[1]*100))\n",
    "    cvscores.append(scores[1] * 100)\n",
    "print(\"%.2f%% (+/- %.2f%%)\" % (np.mean(cvscores), np.std(cvscores)))"
   ]
  },
  {
   "cell_type": "code",
   "execution_count": 1,
   "metadata": {
    "collapsed": false,
    "scrolled": true
   },
   "outputs": [
    {
     "name": "stderr",
     "output_type": "stream",
     "text": [
      "Using TensorFlow backend.\n",
      "D:\\Users\\Felipe\\Anaconda3\\envs\\tensorflow\\lib\\site-packages\\sklearn\\cross_validation.py:44: DeprecationWarning: This module was deprecated in version 0.18 in favor of the model_selection module into which all the refactored classes and functions are moved. Also note that the interface of the new CV iterators are different from that of this module. This module will be removed in 0.20.\n",
      "  \"This module will be removed in 0.20.\", DeprecationWarning)\n"
     ]
    },
    {
     "name": "stdout",
     "output_type": "stream",
     "text": [
      "_________________________________________________________________\n",
      "Layer (type)                 Output Shape              Param #   \n",
      "=================================================================\n",
      "embedding_1 (Embedding)      (None, 500, 128)          576000    \n",
      "_________________________________________________________________\n",
      "dropout_1 (Dropout)          (None, 500, 128)          0         \n",
      "_________________________________________________________________\n",
      "lstm_1 (LSTM)                (None, 100)               91600     \n",
      "_________________________________________________________________\n",
      "dropout_2 (Dropout)          (None, 100)               0         \n",
      "_________________________________________________________________\n",
      "dense_1 (Dense)              (None, 1)                 101       \n",
      "=================================================================\n",
      "Total params: 667,701\n",
      "Trainable params: 667,701\n",
      "Non-trainable params: 0\n",
      "_________________________________________________________________\n",
      "None\n"
     ]
    },
    {
     "name": "stderr",
     "output_type": "stream",
     "text": [
      "D:\\Users\\Felipe\\Anaconda3\\envs\\tensorflow\\lib\\site-packages\\keras\\models.py:837: UserWarning: The `nb_epoch` argument in `fit` has been renamed `epochs`.\n",
      "  warnings.warn('The `nb_epoch` argument in `fit` '\n"
     ]
    },
    {
     "name": "stdout",
     "output_type": "stream",
     "text": [
      "Epoch 1/3\n",
      "5800/5800 [==============================] - 75s - loss: 0.6170 - acc: 0.6434    \n",
      "Epoch 2/3\n",
      "5800/5800 [==============================] - 70s - loss: 0.3382 - acc: 0.8607    \n",
      "Epoch 3/3\n",
      "5800/5800 [==============================] - 70s - loss: 0.2566 - acc: 0.8984    \n",
      "1450/1450 [==============================] - 8s     \n",
      "Acc: 82.8275861905%\n",
      "acc: 82.83%\n",
      "_________________________________________________________________\n",
      "Layer (type)                 Output Shape              Param #   \n",
      "=================================================================\n",
      "embedding_2 (Embedding)      (None, 500, 128)          576000    \n",
      "_________________________________________________________________\n",
      "dropout_3 (Dropout)          (None, 500, 128)          0         \n",
      "_________________________________________________________________\n",
      "lstm_2 (LSTM)                (None, 100)               91600     \n",
      "_________________________________________________________________\n",
      "dropout_4 (Dropout)          (None, 100)               0         \n",
      "_________________________________________________________________\n",
      "dense_2 (Dense)              (None, 1)                 101       \n",
      "=================================================================\n",
      "Total params: 667,701\n",
      "Trainable params: 667,701\n",
      "Non-trainable params: 0\n",
      "_________________________________________________________________\n",
      "None\n",
      "Epoch 1/3\n",
      "5800/5800 [==============================] - 73s - loss: 0.5988 - acc: 0.6595    \n",
      "Epoch 2/3\n",
      "5800/5800 [==============================] - 71s - loss: 0.3442 - acc: 0.8605    \n",
      "Epoch 3/3\n",
      "5800/5800 [==============================] - 71s - loss: 0.2561 - acc: 0.8995    \n",
      "1450/1450 [==============================] - 8s     \n",
      "Acc: 81.4482758703%\n",
      "acc: 81.45%\n",
      "_________________________________________________________________\n",
      "Layer (type)                 Output Shape              Param #   \n",
      "=================================================================\n",
      "embedding_3 (Embedding)      (None, 500, 128)          576000    \n",
      "_________________________________________________________________\n",
      "dropout_5 (Dropout)          (None, 500, 128)          0         \n",
      "_________________________________________________________________\n",
      "lstm_3 (LSTM)                (None, 100)               91600     \n",
      "_________________________________________________________________\n",
      "dropout_6 (Dropout)          (None, 100)               0         \n",
      "_________________________________________________________________\n",
      "dense_3 (Dense)              (None, 1)                 101       \n",
      "=================================================================\n",
      "Total params: 667,701\n",
      "Trainable params: 667,701\n",
      "Non-trainable params: 0\n",
      "_________________________________________________________________\n",
      "None\n",
      "Epoch 1/3\n",
      "5800/5800 [==============================] - 72s - loss: 0.6776 - acc: 0.6078    \n",
      "Epoch 2/3\n",
      "5800/5800 [==============================] - 71s - loss: 0.4598 - acc: 0.8021    \n",
      "Epoch 3/3\n",
      "5800/5800 [==============================] - 71s - loss: 0.3132 - acc: 0.8726    \n",
      "1450/1450 [==============================] - 8s     \n",
      "Acc: 79.379310353%\n",
      "acc: 79.38%\n",
      "_________________________________________________________________\n",
      "Layer (type)                 Output Shape              Param #   \n",
      "=================================================================\n",
      "embedding_4 (Embedding)      (None, 500, 128)          576000    \n",
      "_________________________________________________________________\n",
      "dropout_7 (Dropout)          (None, 500, 128)          0         \n",
      "_________________________________________________________________\n",
      "lstm_4 (LSTM)                (None, 100)               91600     \n",
      "_________________________________________________________________\n",
      "dropout_8 (Dropout)          (None, 100)               0         \n",
      "_________________________________________________________________\n",
      "dense_4 (Dense)              (None, 1)                 101       \n",
      "=================================================================\n",
      "Total params: 667,701\n",
      "Trainable params: 667,701\n",
      "Non-trainable params: 0\n",
      "_________________________________________________________________\n",
      "None\n",
      "Epoch 1/3\n",
      "5800/5800 [==============================] - 71s - loss: 0.6075 - acc: 0.6631    \n",
      "Epoch 2/3\n",
      "5800/5800 [==============================] - 70s - loss: 0.3342 - acc: 0.8607    \n",
      "Epoch 3/3\n",
      "5800/5800 [==============================] - 70s - loss: 0.2330 - acc: 0.9083    \n",
      "1450/1450 [==============================] - 8s     \n",
      "Acc: 81.379310353%\n",
      "acc: 81.38%\n",
      "_________________________________________________________________\n",
      "Layer (type)                 Output Shape              Param #   \n",
      "=================================================================\n",
      "embedding_5 (Embedding)      (None, 500, 128)          576000    \n",
      "_________________________________________________________________\n",
      "dropout_9 (Dropout)          (None, 500, 128)          0         \n",
      "_________________________________________________________________\n",
      "lstm_5 (LSTM)                (None, 100)               91600     \n",
      "_________________________________________________________________\n",
      "dropout_10 (Dropout)         (None, 100)               0         \n",
      "_________________________________________________________________\n",
      "dense_5 (Dense)              (None, 1)                 101       \n",
      "=================================================================\n",
      "Total params: 667,701\n",
      "Trainable params: 667,701\n",
      "Non-trainable params: 0\n",
      "_________________________________________________________________\n",
      "None\n",
      "Epoch 1/3\n",
      "5800/5800 [==============================] - 72s - loss: 0.5688 - acc: 0.6997    \n",
      "Epoch 2/3\n",
      "5800/5800 [==============================] - 71s - loss: 0.3366 - acc: 0.8619    \n",
      "Epoch 3/3\n",
      "5800/5800 [==============================] - 71s - loss: 0.2289 - acc: 0.9134    \n",
      "1450/1450 [==============================] - 8s     \n",
      "Acc: 84.2068965353%\n",
      "acc: 84.21%\n",
      "81.85% (+/- 1.61%)\n"
     ]
    }
   ],
   "source": [
    "\n",
    "import numpy as np\n",
    "from keras.datasets import imdb\n",
    "np.random.seed(3)\n",
    "from keras.preprocessing import sequence\n",
    "(X_train, y_train), (X_test, y_test) = imdb.load_data(num_words=4000, seed=15)\n",
    "\n",
    "X_train = sequence.pad_sequences(X_train, maxlen=500)\n",
    "X_test = sequence.pad_sequences(X_test, maxlen=500)\n",
    "\n",
    "from keras.layers import Dropout\n",
    "from keras.models import Sequential\n",
    "from keras.layers import Dense\n",
    "from keras.layers import LSTM\n",
    "from keras.layers.embeddings import Embedding\n",
    "top_words = 4500\n",
    "embedding_vector_length = 128\n",
    "\n",
    "from sklearn.cross_validation import KFold\n",
    "kfold = KFold(7250, n_folds=5 , shuffle=True)\n",
    "cvscores = []\n",
    "\n",
    "for i, (train, test) in enumerate(kfold):\n",
    "    model = Sequential()\n",
    "    model.add(Embedding(top_words, embedding_vector_length, input_length=500))\n",
    "    model.add(Dropout(0.2))\n",
    "    model.add(LSTM(100))\n",
    "    model.add(Dropout(0.2))\n",
    "    model.add(Dense(1, activation='sigmoid'))\n",
    "    model.compile(loss='binary_crossentropy', optimizer='adam', metrics=['accuracy'])\n",
    "    print(model.summary())\n",
    "    model.fit(X_train[train], y_train[train], nb_epoch=3, batch_size=64)\n",
    "    scores = model.evaluate(X_train[test], y_train[test], verbose=1)\n",
    "    print(\"Acc: \" + str(scores[1] * 100) + \"%\")\n",
    "    print(\"%s: %.2f%%\" % (model.metrics_names[1], scores[1]*100))\n",
    "    cvscores.append(scores[1] * 100)\n",
    "print(\"%.2f%% (+/- %.2f%%)\" % (np.mean(cvscores), np.std(cvscores)))"
   ]
  },
  {
   "cell_type": "code",
   "execution_count": null,
   "metadata": {
    "collapsed": true
   },
   "outputs": [],
   "source": []
  }
 ],
 "metadata": {
  "anaconda-cloud": {},
  "kernelspec": {
   "display_name": "Python [conda env:tensorflow]",
   "language": "python",
   "name": "conda-env-tensorflow-py"
  },
  "language_info": {
   "codemirror_mode": {
    "name": "ipython",
    "version": 3
   },
   "file_extension": ".py",
   "mimetype": "text/x-python",
   "name": "python",
   "nbconvert_exporter": "python",
   "pygments_lexer": "ipython3",
   "version": "3.5.3"
  }
 },
 "nbformat": 4,
 "nbformat_minor": 1
}
